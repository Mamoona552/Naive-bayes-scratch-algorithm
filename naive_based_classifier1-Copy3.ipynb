{
 "cells": [
  {
   "cell_type": "markdown",
   "id": "b15dec54",
   "metadata": {},
   "source": [
    "# Import"
   ]
  },
  {
   "cell_type": "code",
   "execution_count": 1,
   "id": "e35b7879",
   "metadata": {},
   "outputs": [],
   "source": [
    "import pandas as pd"
   ]
  },
  {
   "cell_type": "markdown",
   "id": "f06816e2",
   "metadata": {},
   "source": [
    "# read csv file"
   ]
  },
  {
   "cell_type": "code",
   "execution_count": 2,
   "id": "964768d4",
   "metadata": {},
   "outputs": [
    {
     "name": "stdout",
     "output_type": "stream",
     "text": [
      "                ?   Some-college          Husband     Male    >50K\n",
      "0               ?        7th-8th    Not-in-family     Male   <=50K\n",
      "1               ?   Some-college        Own-child     Male   <=50K\n",
      "2               ?           10th          Husband     Male   <=50K\n",
      "3               ?           10th        Own-child   Female   <=50K\n",
      "4               ?        HS-grad          Husband     Male   <=50K\n",
      "...           ...            ...              ...      ...     ...\n",
      "23455   State-gov        HS-grad          Husband     Male   <=50K\n",
      "23456   State-gov   Some-college    Not-in-family   Female   <=50K\n",
      "23457   State-gov        7th-8th             Wife   Female   <=50K\n",
      "23458   State-gov        HS-grad        Own-child   Female   <=50K\n",
      "23459   State-gov   Some-college   Other-relative   Female   <=50K\n",
      "\n",
      "[23460 rows x 5 columns]\n"
     ]
    }
   ],
   "source": [
    "file=pd.read_csv('adult.csv')\n",
    "print(file)\n"
   ]
  },
  {
   "cell_type": "code",
   "execution_count": 3,
   "id": "6d67d6f0",
   "metadata": {},
   "outputs": [
    {
     "data": {
      "text/html": [
       "<div>\n",
       "<style scoped>\n",
       "    .dataframe tbody tr th:only-of-type {\n",
       "        vertical-align: middle;\n",
       "    }\n",
       "\n",
       "    .dataframe tbody tr th {\n",
       "        vertical-align: top;\n",
       "    }\n",
       "\n",
       "    .dataframe thead th {\n",
       "        text-align: right;\n",
       "    }\n",
       "</style>\n",
       "<table border=\"1\" class=\"dataframe\">\n",
       "  <thead>\n",
       "    <tr style=\"text-align: right;\">\n",
       "      <th></th>\n",
       "      <th>?</th>\n",
       "      <th>Some-college</th>\n",
       "      <th>Husband</th>\n",
       "      <th>Male</th>\n",
       "      <th>&gt;50K</th>\n",
       "    </tr>\n",
       "  </thead>\n",
       "  <tbody>\n",
       "    <tr>\n",
       "      <th>0</th>\n",
       "      <td>?</td>\n",
       "      <td>7th-8th</td>\n",
       "      <td>Not-in-family</td>\n",
       "      <td>Male</td>\n",
       "      <td>&lt;=50K</td>\n",
       "    </tr>\n",
       "    <tr>\n",
       "      <th>1</th>\n",
       "      <td>?</td>\n",
       "      <td>Some-college</td>\n",
       "      <td>Own-child</td>\n",
       "      <td>Male</td>\n",
       "      <td>&lt;=50K</td>\n",
       "    </tr>\n",
       "    <tr>\n",
       "      <th>2</th>\n",
       "      <td>?</td>\n",
       "      <td>10th</td>\n",
       "      <td>Husband</td>\n",
       "      <td>Male</td>\n",
       "      <td>&lt;=50K</td>\n",
       "    </tr>\n",
       "    <tr>\n",
       "      <th>3</th>\n",
       "      <td>?</td>\n",
       "      <td>10th</td>\n",
       "      <td>Own-child</td>\n",
       "      <td>Female</td>\n",
       "      <td>&lt;=50K</td>\n",
       "    </tr>\n",
       "    <tr>\n",
       "      <th>4</th>\n",
       "      <td>?</td>\n",
       "      <td>HS-grad</td>\n",
       "      <td>Husband</td>\n",
       "      <td>Male</td>\n",
       "      <td>&lt;=50K</td>\n",
       "    </tr>\n",
       "  </tbody>\n",
       "</table>\n",
       "</div>"
      ],
      "text/plain": [
       "    ?   Some-college         Husband     Male    >50K\n",
       "0   ?        7th-8th   Not-in-family     Male   <=50K\n",
       "1   ?   Some-college       Own-child     Male   <=50K\n",
       "2   ?           10th         Husband     Male   <=50K\n",
       "3   ?           10th       Own-child   Female   <=50K\n",
       "4   ?        HS-grad         Husband     Male   <=50K"
      ]
     },
     "execution_count": 3,
     "metadata": {},
     "output_type": "execute_result"
    }
   ],
   "source": [
    "file.head()"
   ]
  },
  {
   "cell_type": "code",
   "execution_count": 4,
   "id": "d4c9c8ea",
   "metadata": {},
   "outputs": [
    {
     "data": {
      "text/html": [
       "<div>\n",
       "<style scoped>\n",
       "    .dataframe tbody tr th:only-of-type {\n",
       "        vertical-align: middle;\n",
       "    }\n",
       "\n",
       "    .dataframe tbody tr th {\n",
       "        vertical-align: top;\n",
       "    }\n",
       "\n",
       "    .dataframe thead th {\n",
       "        text-align: right;\n",
       "    }\n",
       "</style>\n",
       "<table border=\"1\" class=\"dataframe\">\n",
       "  <thead>\n",
       "    <tr style=\"text-align: right;\">\n",
       "      <th></th>\n",
       "      <th>?</th>\n",
       "      <th>Some-college</th>\n",
       "      <th>Husband</th>\n",
       "      <th>Male</th>\n",
       "      <th>&gt;50K</th>\n",
       "    </tr>\n",
       "  </thead>\n",
       "  <tbody>\n",
       "    <tr>\n",
       "      <th>23455</th>\n",
       "      <td>State-gov</td>\n",
       "      <td>HS-grad</td>\n",
       "      <td>Husband</td>\n",
       "      <td>Male</td>\n",
       "      <td>&lt;=50K</td>\n",
       "    </tr>\n",
       "    <tr>\n",
       "      <th>23456</th>\n",
       "      <td>State-gov</td>\n",
       "      <td>Some-college</td>\n",
       "      <td>Not-in-family</td>\n",
       "      <td>Female</td>\n",
       "      <td>&lt;=50K</td>\n",
       "    </tr>\n",
       "    <tr>\n",
       "      <th>23457</th>\n",
       "      <td>State-gov</td>\n",
       "      <td>7th-8th</td>\n",
       "      <td>Wife</td>\n",
       "      <td>Female</td>\n",
       "      <td>&lt;=50K</td>\n",
       "    </tr>\n",
       "    <tr>\n",
       "      <th>23458</th>\n",
       "      <td>State-gov</td>\n",
       "      <td>HS-grad</td>\n",
       "      <td>Own-child</td>\n",
       "      <td>Female</td>\n",
       "      <td>&lt;=50K</td>\n",
       "    </tr>\n",
       "    <tr>\n",
       "      <th>23459</th>\n",
       "      <td>State-gov</td>\n",
       "      <td>Some-college</td>\n",
       "      <td>Other-relative</td>\n",
       "      <td>Female</td>\n",
       "      <td>&lt;=50K</td>\n",
       "    </tr>\n",
       "  </tbody>\n",
       "</table>\n",
       "</div>"
      ],
      "text/plain": [
       "                ?   Some-college          Husband     Male    >50K\n",
       "23455   State-gov        HS-grad          Husband     Male   <=50K\n",
       "23456   State-gov   Some-college    Not-in-family   Female   <=50K\n",
       "23457   State-gov        7th-8th             Wife   Female   <=50K\n",
       "23458   State-gov        HS-grad        Own-child   Female   <=50K\n",
       "23459   State-gov   Some-college   Other-relative   Female   <=50K"
      ]
     },
     "execution_count": 4,
     "metadata": {},
     "output_type": "execute_result"
    }
   ],
   "source": [
    "file.tail()"
   ]
  },
  {
   "cell_type": "markdown",
   "id": "e063ab23",
   "metadata": {},
   "source": [
    "## Add header in csv file"
   ]
  },
  {
   "cell_type": "code",
   "execution_count": 5,
   "id": "4263b3f5",
   "metadata": {},
   "outputs": [],
   "source": [
    "file.columns=['sector','education','relation','gender','salary']\n",
    "file.to_csv('adult_2.csv')"
   ]
  },
  {
   "cell_type": "markdown",
   "id": "b80aa5f7",
   "metadata": {},
   "source": [
    "## Null attribute check"
   ]
  },
  {
   "cell_type": "code",
   "execution_count": 6,
   "id": "80dd0d98",
   "metadata": {},
   "outputs": [
    {
     "name": "stdout",
     "output_type": "stream",
     "text": [
      "sector       0.0\n",
      "education    0.0\n",
      "relation     0.0\n",
      "gender       0.0\n",
      "salary       0.0\n",
      "dtype: float64\n"
     ]
    }
   ],
   "source": [
    "print(file.isnull().mean())"
   ]
  },
  {
   "cell_type": "markdown",
   "id": "900f716e",
   "metadata": {},
   "source": [
    "### Duplicates rows find"
   ]
  },
  {
   "cell_type": "code",
   "execution_count": 7,
   "id": "b79cb816",
   "metadata": {},
   "outputs": [
    {
     "data": {
      "text/plain": [
       "0        False\n",
       "1        False\n",
       "2        False\n",
       "3        False\n",
       "4        False\n",
       "         ...  \n",
       "23455     True\n",
       "23456     True\n",
       "23457    False\n",
       "23458     True\n",
       "23459     True\n",
       "Length: 23460, dtype: bool"
      ]
     },
     "execution_count": 7,
     "metadata": {},
     "output_type": "execute_result"
    }
   ],
   "source": [
    "file.duplicated()"
   ]
  },
  {
   "cell_type": "markdown",
   "id": "58288902",
   "metadata": {},
   "source": [
    "#### Delete duplicate rows"
   ]
  },
  {
   "cell_type": "code",
   "execution_count": 16,
   "id": "560ccea6",
   "metadata": {},
   "outputs": [
    {
     "name": "stdout",
     "output_type": "stream",
     "text": [
      "<class 'pandas.core.frame.DataFrame'>\n",
      "Index: 941 entries, 0 to 23457\n",
      "Data columns (total 5 columns):\n",
      " #   Column     Non-Null Count  Dtype \n",
      "---  ------     --------------  ----- \n",
      " 0   sector     941 non-null    object\n",
      " 1   education  941 non-null    object\n",
      " 2   relation   941 non-null    object\n",
      " 3   gender     941 non-null    object\n",
      " 4   salary     941 non-null    object\n",
      "dtypes: object(5)\n",
      "memory usage: 44.1+ KB\n"
     ]
    }
   ],
   "source": [
    "file2=file.drop_duplicates()\n",
    "file2.info()"
   ]
  },
  {
   "cell_type": "code",
   "execution_count": 9,
   "id": "4db27b35",
   "metadata": {},
   "outputs": [
    {
     "data": {
      "text/plain": [
       "0        False\n",
       "1        False\n",
       "2        False\n",
       "3        False\n",
       "4        False\n",
       "         ...  \n",
       "23273    False\n",
       "23363    False\n",
       "23418    False\n",
       "23438    False\n",
       "23457    False\n",
       "Length: 941, dtype: bool"
      ]
     },
     "execution_count": 9,
     "metadata": {},
     "output_type": "execute_result"
    }
   ],
   "source": [
    "file2.duplicated()"
   ]
  },
  {
   "cell_type": "markdown",
   "id": "a53537ba",
   "metadata": {},
   "source": [
    "### Finding Unique values in a attribute"
   ]
  },
  {
   "cell_type": "markdown",
   "id": "c29095ad",
   "metadata": {},
   "source": [
    "#### Sector attribute unique values check"
   ]
  },
  {
   "cell_type": "code",
   "execution_count": 10,
   "id": "4e3c441c",
   "metadata": {},
   "outputs": [
    {
     "data": {
      "text/plain": [
       "array([' ?', ' Federal-gov', ' Local-gov', ' Never-worked', ' Private',\n",
       "       ' Self-emp-inc', ' State-gov'], dtype=object)"
      ]
     },
     "execution_count": 10,
     "metadata": {},
     "output_type": "execute_result"
    }
   ],
   "source": [
    "file2['sector'].unique()"
   ]
  },
  {
   "cell_type": "markdown",
   "id": "bf919864",
   "metadata": {},
   "source": [
    "####  Education attribute unique values check"
   ]
  },
  {
   "cell_type": "code",
   "execution_count": 11,
   "id": "47e6bd9c",
   "metadata": {},
   "outputs": [
    {
     "data": {
      "text/plain": [
       "array([' 7th-8th', ' Some-college', ' 10th', ' HS-grad', ' 1st-4th',\n",
       "       ' Bachelors', ' Masters', ' Assoc-voc', ' 11th', ' 12th',\n",
       "       ' 5th-6th', ' 9th', ' Assoc-acdm', ' Doctorate', ' Preschool',\n",
       "       ' Prof-school'], dtype=object)"
      ]
     },
     "execution_count": 11,
     "metadata": {},
     "output_type": "execute_result"
    }
   ],
   "source": [
    "file2['education'].unique()"
   ]
  },
  {
   "cell_type": "markdown",
   "id": "ff285ec3",
   "metadata": {},
   "source": [
    "#### Relation attribute unique values check"
   ]
  },
  {
   "cell_type": "code",
   "execution_count": 12,
   "id": "89c43d65",
   "metadata": {},
   "outputs": [
    {
     "data": {
      "text/plain": [
       "array([' Not-in-family', ' Own-child', ' Husband', ' Wife', ' Unmarried',\n",
       "       ' Other-relative'], dtype=object)"
      ]
     },
     "execution_count": 12,
     "metadata": {},
     "output_type": "execute_result"
    }
   ],
   "source": [
    "file2['relation'].unique()"
   ]
  },
  {
   "cell_type": "markdown",
   "id": "b2eeec47",
   "metadata": {},
   "source": [
    "#### Gender attribute unique values check"
   ]
  },
  {
   "cell_type": "code",
   "execution_count": 13,
   "id": "6f7f93ac",
   "metadata": {},
   "outputs": [
    {
     "data": {
      "text/plain": [
       "array([' Male', ' Female'], dtype=object)"
      ]
     },
     "execution_count": 13,
     "metadata": {},
     "output_type": "execute_result"
    }
   ],
   "source": [
    "file2['gender'].unique()"
   ]
  },
  {
   "cell_type": "markdown",
   "id": "38cdb926",
   "metadata": {},
   "source": [
    "#### Salary attribute unique values check"
   ]
  },
  {
   "cell_type": "code",
   "execution_count": 14,
   "id": "fbe9e97f",
   "metadata": {},
   "outputs": [
    {
     "data": {
      "text/plain": [
       "array([' <=50K', ' >50K'], dtype=object)"
      ]
     },
     "execution_count": 14,
     "metadata": {},
     "output_type": "execute_result"
    }
   ],
   "source": [
    "file2['salary'].unique()"
   ]
  },
  {
   "cell_type": "markdown",
   "id": "67158f79",
   "metadata": {},
   "source": [
    "# Replace values"
   ]
  },
  {
   "cell_type": "markdown",
   "id": "0b039d0d",
   "metadata": {},
   "source": [
    "# Education field \n",
    "([' 7th-8th', ' Some-college', ' 10th', ' HS-grad', ' 1st-4th',\n",
    "       ' Bachelors', ' Masters', ' Assoc-voc', ' 11th', ' 12th',\n",
    "       ' 5th-6th', ' 9th', ' Assoc-acdm', ' Doctorate', ' Preschool',\n",
    "       ' Prof-school'])"
   ]
  },
  {
   "cell_type": "markdown",
   "id": "6b2c046c",
   "metadata": {},
   "source": [
    "##### replace [' 1st-4th',' 5th-6th'] to 'Primary'     and     [' 7th-8th', ' 10th',' 11th', ' 12th', ' 9th']  to 'HighSchool'"
   ]
  },
  {
   "cell_type": "code",
   "execution_count": 14,
   "id": "81ad7fca",
   "metadata": {},
   "outputs": [],
   "source": [
    "file3=file2.replace([' 1st-4th',' 5th-6th'], 'Primary')\n",
    "file3=file3.replace([' 7th-8th', ' 10th',' 11th', ' 12th', ' 9th'],'HighSchool')"
   ]
  },
  {
   "cell_type": "code",
   "execution_count": 15,
   "id": "9b5d53c3",
   "metadata": {},
   "outputs": [
    {
     "data": {
      "text/plain": [
       "array(['HighSchool', ' Some-college', ' HS-grad', 'Primary', ' Bachelors',\n",
       "       ' Masters', ' Assoc-voc', ' Assoc-acdm', ' Doctorate',\n",
       "       ' Preschool', ' Prof-school'], dtype=object)"
      ]
     },
     "execution_count": 15,
     "metadata": {},
     "output_type": "execute_result"
    }
   ],
   "source": [
    "file3['education'].unique()"
   ]
  },
  {
   "cell_type": "markdown",
   "id": "059c76a6",
   "metadata": {},
   "source": [
    "# Dropping rows"
   ]
  },
  {
   "cell_type": "markdown",
   "id": "ca7ec882",
   "metadata": {},
   "source": [
    "#####  Education attribute\n",
    "Delete rows having values [' Some-college' , ' HS-grad'  , ' Assoc-voc'  ,  ' Assoc-acdm' ,   ' Preschool'  , ' Prof-school' ]\n",
    "\n",
    "\n",
    "\n",
    "\n"
   ]
  },
  {
   "cell_type": "code",
   "execution_count": 17,
   "id": "7eeebedd",
   "metadata": {},
   "outputs": [],
   "source": [
    "file3 = file3.drop(file3[file3['education'] == ' Some-college'].index)\n",
    "file3 = file3.drop(file3[file3['education'] == ' HS-grad'].index)\n",
    "file3 = file3.drop(file3[file3['education'] == ' Assoc-voc'].index)\n",
    "file3 = file3.drop(file3[file3['education'] == ' Assoc-acdm'].index)\n",
    "file3 = file3.drop(file3[file3['education'] == ' Preschool'].index)\n",
    "file3 = file3.drop(file3[file3['education'] == ' Prof-school'].index)"
   ]
  },
  {
   "cell_type": "markdown",
   "id": "fdf126d7",
   "metadata": {},
   "source": [
    "###### unique value in education attribute is"
   ]
  },
  {
   "cell_type": "code",
   "execution_count": 18,
   "id": "b995acad",
   "metadata": {},
   "outputs": [
    {
     "data": {
      "text/plain": [
       "array(['HighSchool', 'Primary', ' Bachelors', ' Masters', ' Doctorate'],\n",
       "      dtype=object)"
      ]
     },
     "execution_count": 18,
     "metadata": {},
     "output_type": "execute_result"
    }
   ],
   "source": [
    "file3['education'].unique()"
   ]
  },
  {
   "cell_type": "markdown",
   "id": "9e982290",
   "metadata": {},
   "source": [
    "# Relation field\n",
    "[' Not-in-family', ' Own-child', ' Husband', ' Wife', ' Unmarried',\n",
    "       ' Other-relative']"
   ]
  },
  {
   "cell_type": "markdown",
   "id": "2b802995",
   "metadata": {},
   "source": [
    "### Delete rows having values [' Not-in-family', ' Own-child', ' Other-relative']"
   ]
  },
  {
   "cell_type": "code",
   "execution_count": 19,
   "id": "2d3ae273",
   "metadata": {},
   "outputs": [],
   "source": [
    "file3 = file3.drop(file3[file3['relation'] == ' Not-in-family'].index)\n",
    "file3 = file3.drop(file3[file3['relation'] == ' Own-child'].index)\n",
    "file3 = file3.drop(file3[file3['relation'] == ' Other-relative'].index)"
   ]
  },
  {
   "cell_type": "markdown",
   "id": "d5c3ab73",
   "metadata": {},
   "source": [
    "##### Unique values in relation attribute is"
   ]
  },
  {
   "cell_type": "code",
   "execution_count": 20,
   "id": "1c054951",
   "metadata": {},
   "outputs": [
    {
     "data": {
      "text/plain": [
       "array([' Husband', ' Wife', ' Unmarried'], dtype=object)"
      ]
     },
     "execution_count": 20,
     "metadata": {},
     "output_type": "execute_result"
    }
   ],
   "source": [
    "file3['relation'].unique()"
   ]
  },
  {
   "cell_type": "markdown",
   "id": "ba5674c0",
   "metadata": {},
   "source": [
    "# Sector attribute\n",
    "[' ?', ' Federal-gov', ' Local-gov', ' Never-worked', ' Private',\n",
    "       ' Self-emp-inc', ' State-gov']"
   ]
  },
  {
   "cell_type": "markdown",
   "id": "599cd305",
   "metadata": {},
   "source": [
    "##### Delete rows having ' ?'"
   ]
  },
  {
   "cell_type": "code",
   "execution_count": 21,
   "id": "1a81ffe8",
   "metadata": {},
   "outputs": [],
   "source": [
    "file3 = file3.drop(file3[file3['sector'] == ' ?'].index)"
   ]
  },
  {
   "cell_type": "markdown",
   "id": "253d56fa",
   "metadata": {},
   "source": [
    "#### Unique values in sector attribute"
   ]
  },
  {
   "cell_type": "code",
   "execution_count": 22,
   "id": "59089351",
   "metadata": {},
   "outputs": [
    {
     "data": {
      "text/plain": [
       "array([' Federal-gov', ' Local-gov', ' Private', ' Self-emp-inc',\n",
       "       ' State-gov'], dtype=object)"
      ]
     },
     "execution_count": 22,
     "metadata": {},
     "output_type": "execute_result"
    }
   ],
   "source": [
    "file3['sector'].unique()"
   ]
  },
  {
   "cell_type": "markdown",
   "id": "251219b6",
   "metadata": {},
   "source": [
    "# Find each attributes number of unique value count"
   ]
  },
  {
   "cell_type": "markdown",
   "id": "bd083436",
   "metadata": {},
   "source": [
    "#### Education attribute"
   ]
  },
  {
   "cell_type": "code",
   "execution_count": 23,
   "id": "7d66e8f1",
   "metadata": {},
   "outputs": [
    {
     "data": {
      "text/plain": [
       "education\n",
       "HighSchool    90\n",
       " Bachelors    38\n",
       " Masters      33\n",
       " Doctorate    22\n",
       "Primary       19\n",
       "Name: count, dtype: int64"
      ]
     },
     "execution_count": 23,
     "metadata": {},
     "output_type": "execute_result"
    }
   ],
   "source": [
    "file3['education'].value_counts()"
   ]
  },
  {
   "cell_type": "markdown",
   "id": "11fda215",
   "metadata": {},
   "source": [
    "#### Sector attribute"
   ]
  },
  {
   "cell_type": "code",
   "execution_count": 24,
   "id": "6323d4dc",
   "metadata": {},
   "outputs": [
    {
     "data": {
      "text/plain": [
       "sector\n",
       " Private         67\n",
       " Local-gov       46\n",
       " State-gov       34\n",
       " Self-emp-inc    32\n",
       " Federal-gov     23\n",
       "Name: count, dtype: int64"
      ]
     },
     "execution_count": 24,
     "metadata": {},
     "output_type": "execute_result"
    }
   ],
   "source": [
    "file3['sector'].value_counts()"
   ]
  },
  {
   "cell_type": "markdown",
   "id": "fa8f5016",
   "metadata": {},
   "source": [
    "#### Relation attribute "
   ]
  },
  {
   "cell_type": "code",
   "execution_count": 25,
   "id": "7f82535a",
   "metadata": {},
   "outputs": [
    {
     "data": {
      "text/plain": [
       "relation\n",
       " Unmarried    80\n",
       " Husband      77\n",
       " Wife         45\n",
       "Name: count, dtype: int64"
      ]
     },
     "execution_count": 25,
     "metadata": {},
     "output_type": "execute_result"
    }
   ],
   "source": [
    "file3['relation'].value_counts()"
   ]
  },
  {
   "cell_type": "markdown",
   "id": "52761ab8",
   "metadata": {},
   "source": [
    "#### Gender attribute"
   ]
  },
  {
   "cell_type": "code",
   "execution_count": 26,
   "id": "2f59703c",
   "metadata": {},
   "outputs": [
    {
     "data": {
      "text/plain": [
       "gender\n",
       " Male      112\n",
       " Female     90\n",
       "Name: count, dtype: int64"
      ]
     },
     "execution_count": 26,
     "metadata": {},
     "output_type": "execute_result"
    }
   ],
   "source": [
    "file3['gender'].value_counts()"
   ]
  },
  {
   "cell_type": "markdown",
   "id": "32ed651d",
   "metadata": {},
   "source": [
    "#### Salary Attribute"
   ]
  },
  {
   "cell_type": "code",
   "execution_count": 27,
   "id": "bb8b3e7f",
   "metadata": {},
   "outputs": [
    {
     "data": {
      "text/plain": [
       "salary\n",
       " <=50K    121\n",
       " >50K      81\n",
       "Name: count, dtype: int64"
      ]
     },
     "execution_count": 27,
     "metadata": {},
     "output_type": "execute_result"
    }
   ],
   "source": [
    "file3['salary'].value_counts()"
   ]
  },
  {
   "cell_type": "markdown",
   "id": "e99b5723",
   "metadata": {},
   "source": [
    "# Total rows in dataset"
   ]
  },
  {
   "cell_type": "code",
   "execution_count": 28,
   "id": "721274d1",
   "metadata": {},
   "outputs": [
    {
     "data": {
      "text/plain": [
       "(202, 5)"
      ]
     },
     "execution_count": 28,
     "metadata": {},
     "output_type": "execute_result"
    }
   ],
   "source": [
    "file3.shape"
   ]
  },
  {
   "cell_type": "code",
   "execution_count": 29,
   "id": "3cc00b62",
   "metadata": {},
   "outputs": [
    {
     "data": {
      "text/plain": [
       "<bound method DataFrame.info of              sector   education    relation   gender  salary\n",
       "1835    Federal-gov  HighSchool     Husband     Male   <=50K\n",
       "1837    Federal-gov   Bachelors     Husband     Male    >50K\n",
       "1841    Federal-gov     Masters     Husband     Male    >50K\n",
       "1844    Federal-gov   Bachelors     Husband     Male   <=50K\n",
       "1855    Federal-gov   Bachelors   Unmarried     Male    >50K\n",
       "...             ...         ...         ...      ...     ...\n",
       "23195     State-gov   Doctorate   Unmarried   Female   <=50K\n",
       "23200     State-gov     Masters        Wife   Female   <=50K\n",
       "23267     State-gov     Primary     Husband     Male   <=50K\n",
       "23363     State-gov  HighSchool   Unmarried   Female   <=50K\n",
       "23457     State-gov  HighSchool        Wife   Female   <=50K\n",
       "\n",
       "[202 rows x 5 columns]>"
      ]
     },
     "execution_count": 29,
     "metadata": {},
     "output_type": "execute_result"
    }
   ],
   "source": [
    "file3.info"
   ]
  },
  {
   "cell_type": "markdown",
   "id": "9e2e5b60",
   "metadata": {},
   "source": [
    "# Splitting training and test set"
   ]
  },
  {
   "cell_type": "code",
   "execution_count": 30,
   "id": "8619e996",
   "metadata": {},
   "outputs": [
    {
     "name": "stdout",
     "output_type": "stream",
     "text": [
      "training dataset :  (102, 5)\n",
      "testing dataset :  (100, 5)\n"
     ]
    }
   ],
   "source": [
    "file3 = file3.sample(frac = 1)      ##### shuffle sample \n",
    "train =file3.iloc[:102]\n",
    "test = file3.iloc[102:]\n",
    "print(\"training dataset : \" ,train.shape)\n",
    "print(\"testing dataset : \" ,test.shape)\n"
   ]
  },
  {
   "cell_type": "code",
   "execution_count": 31,
   "id": "d655b461",
   "metadata": {},
   "outputs": [
    {
     "data": {
      "text/plain": [
       "sector\n",
       " Private         67\n",
       " Local-gov       46\n",
       " State-gov       34\n",
       " Self-emp-inc    32\n",
       " Federal-gov     23\n",
       "Name: count, dtype: int64"
      ]
     },
     "execution_count": 31,
     "metadata": {},
     "output_type": "execute_result"
    }
   ],
   "source": [
    "file3['sector'].value_counts()"
   ]
  },
  {
   "cell_type": "code",
   "execution_count": 32,
   "id": "ca7d9f69",
   "metadata": {},
   "outputs": [
    {
     "data": {
      "text/plain": [
       "sector\n",
       " Private         31\n",
       " State-gov       22\n",
       " Local-gov       20\n",
       " Self-emp-inc    17\n",
       " Federal-gov     12\n",
       "Name: count, dtype: int64"
      ]
     },
     "execution_count": 32,
     "metadata": {},
     "output_type": "execute_result"
    }
   ],
   "source": [
    "train['sector'].value_counts()"
   ]
  },
  {
   "cell_type": "code",
   "execution_count": 33,
   "id": "d3ac2a46",
   "metadata": {},
   "outputs": [
    {
     "data": {
      "text/plain": [
       "sector\n",
       " Private         36\n",
       " Local-gov       26\n",
       " Self-emp-inc    15\n",
       " State-gov       12\n",
       " Federal-gov     11\n",
       "Name: count, dtype: int64"
      ]
     },
     "execution_count": 33,
     "metadata": {},
     "output_type": "execute_result"
    }
   ],
   "source": [
    "test['sector'].value_counts()"
   ]
  },
  {
   "cell_type": "code",
   "execution_count": 34,
   "id": "0198bfde",
   "metadata": {},
   "outputs": [
    {
     "data": {
      "text/plain": [
       "salary\n",
       " <=50K    66\n",
       " >50K     36\n",
       "Name: count, dtype: int64"
      ]
     },
     "execution_count": 34,
     "metadata": {},
     "output_type": "execute_result"
    }
   ],
   "source": [
    "train['salary'].value_counts()"
   ]
  },
  {
   "cell_type": "code",
   "execution_count": 35,
   "id": "642c7ff3",
   "metadata": {},
   "outputs": [
    {
     "data": {
      "text/plain": [
       "salary\n",
       " <=50K    55\n",
       " >50K     45\n",
       "Name: count, dtype: int64"
      ]
     },
     "execution_count": 35,
     "metadata": {},
     "output_type": "execute_result"
    }
   ],
   "source": [
    "test['salary'].value_counts()"
   ]
  },
  {
   "cell_type": "code",
   "execution_count": 36,
   "id": "3fdbf975",
   "metadata": {},
   "outputs": [],
   "source": [
    "x_train = train.iloc[:,:-1]\n",
    "y_train=train.iloc[:,-1]"
   ]
  },
  {
   "cell_type": "code",
   "execution_count": 37,
   "id": "d9ca8cf7",
   "metadata": {},
   "outputs": [
    {
     "name": "stdout",
     "output_type": "stream",
     "text": [
      "(102, 4)\n",
      "(102,)\n"
     ]
    }
   ],
   "source": [
    "print(x_train.shape)\n",
    "print(y_train.shape)"
   ]
  },
  {
   "cell_type": "code",
   "execution_count": 38,
   "id": "fe873979",
   "metadata": {},
   "outputs": [
    {
     "name": "stdout",
     "output_type": "stream",
     "text": [
      "(100, 4)\n",
      "(100,)\n"
     ]
    }
   ],
   "source": [
    "x_test = test.iloc[:,:-1]\n",
    "y_test=test.iloc[:,-1]\n",
    "print(x_test.shape)\n",
    "print(y_test.shape)"
   ]
  },
  {
   "cell_type": "markdown",
   "id": "17e33423",
   "metadata": {},
   "source": [
    "# Naive bayes build in train"
   ]
  },
  {
   "cell_type": "code",
   "execution_count": 39,
   "id": "997d76a5",
   "metadata": {},
   "outputs": [
    {
     "data": {
      "text/html": [
       "<div>\n",
       "<style scoped>\n",
       "    .dataframe tbody tr th:only-of-type {\n",
       "        vertical-align: middle;\n",
       "    }\n",
       "\n",
       "    .dataframe tbody tr th {\n",
       "        vertical-align: top;\n",
       "    }\n",
       "\n",
       "    .dataframe thead th {\n",
       "        text-align: right;\n",
       "    }\n",
       "</style>\n",
       "<table border=\"1\" class=\"dataframe\">\n",
       "  <thead>\n",
       "    <tr style=\"text-align: right;\">\n",
       "      <th></th>\n",
       "      <th>sector</th>\n",
       "      <th>education</th>\n",
       "      <th>relation</th>\n",
       "      <th>gender</th>\n",
       "    </tr>\n",
       "  </thead>\n",
       "  <tbody>\n",
       "    <tr>\n",
       "      <th>2806</th>\n",
       "      <td>Local-gov</td>\n",
       "      <td>Bachelors</td>\n",
       "      <td>Husband</td>\n",
       "      <td>Male</td>\n",
       "    </tr>\n",
       "    <tr>\n",
       "      <th>2918</th>\n",
       "      <td>Local-gov</td>\n",
       "      <td>Masters</td>\n",
       "      <td>Unmarried</td>\n",
       "      <td>Female</td>\n",
       "    </tr>\n",
       "    <tr>\n",
       "      <th>3887</th>\n",
       "      <td>Local-gov</td>\n",
       "      <td>HighSchool</td>\n",
       "      <td>Unmarried</td>\n",
       "      <td>Male</td>\n",
       "    </tr>\n",
       "    <tr>\n",
       "      <th>21068</th>\n",
       "      <td>Self-emp-inc</td>\n",
       "      <td>Doctorate</td>\n",
       "      <td>Husband</td>\n",
       "      <td>Male</td>\n",
       "    </tr>\n",
       "    <tr>\n",
       "      <th>5327</th>\n",
       "      <td>Private</td>\n",
       "      <td>HighSchool</td>\n",
       "      <td>Unmarried</td>\n",
       "      <td>Male</td>\n",
       "    </tr>\n",
       "    <tr>\n",
       "      <th>...</th>\n",
       "      <td>...</td>\n",
       "      <td>...</td>\n",
       "      <td>...</td>\n",
       "      <td>...</td>\n",
       "    </tr>\n",
       "    <tr>\n",
       "      <th>2811</th>\n",
       "      <td>Local-gov</td>\n",
       "      <td>HighSchool</td>\n",
       "      <td>Unmarried</td>\n",
       "      <td>Female</td>\n",
       "    </tr>\n",
       "    <tr>\n",
       "      <th>9773</th>\n",
       "      <td>Private</td>\n",
       "      <td>Doctorate</td>\n",
       "      <td>Wife</td>\n",
       "      <td>Female</td>\n",
       "    </tr>\n",
       "    <tr>\n",
       "      <th>1949</th>\n",
       "      <td>Federal-gov</td>\n",
       "      <td>HighSchool</td>\n",
       "      <td>Unmarried</td>\n",
       "      <td>Female</td>\n",
       "    </tr>\n",
       "    <tr>\n",
       "      <th>3278</th>\n",
       "      <td>Local-gov</td>\n",
       "      <td>Doctorate</td>\n",
       "      <td>Husband</td>\n",
       "      <td>Male</td>\n",
       "    </tr>\n",
       "    <tr>\n",
       "      <th>6086</th>\n",
       "      <td>Private</td>\n",
       "      <td>Masters</td>\n",
       "      <td>Wife</td>\n",
       "      <td>Female</td>\n",
       "    </tr>\n",
       "  </tbody>\n",
       "</table>\n",
       "<p>100 rows × 4 columns</p>\n",
       "</div>"
      ],
      "text/plain": [
       "              sector   education    relation   gender\n",
       "2806       Local-gov   Bachelors     Husband     Male\n",
       "2918       Local-gov     Masters   Unmarried   Female\n",
       "3887       Local-gov  HighSchool   Unmarried     Male\n",
       "21068   Self-emp-inc   Doctorate     Husband     Male\n",
       "5327         Private  HighSchool   Unmarried     Male\n",
       "...              ...         ...         ...      ...\n",
       "2811       Local-gov  HighSchool   Unmarried   Female\n",
       "9773         Private   Doctorate        Wife   Female\n",
       "1949     Federal-gov  HighSchool   Unmarried   Female\n",
       "3278       Local-gov   Doctorate     Husband     Male\n",
       "6086         Private     Masters        Wife   Female\n",
       "\n",
       "[100 rows x 4 columns]"
      ]
     },
     "execution_count": 39,
     "metadata": {},
     "output_type": "execute_result"
    }
   ],
   "source": [
    "x_test"
   ]
  },
  {
   "cell_type": "code",
   "execution_count": 40,
   "id": "da47776d",
   "metadata": {},
   "outputs": [
    {
     "data": {
      "text/plain": [
       "2806      <=50K\n",
       "2918      <=50K\n",
       "3887      <=50K\n",
       "21068      >50K\n",
       "5327      <=50K\n",
       "          ...  \n",
       "2811      <=50K\n",
       "9773      <=50K\n",
       "1949      <=50K\n",
       "3278       >50K\n",
       "6086       >50K\n",
       "Name: salary, Length: 100, dtype: object"
      ]
     },
     "execution_count": 40,
     "metadata": {},
     "output_type": "execute_result"
    }
   ],
   "source": [
    "y_test"
   ]
  },
  {
   "cell_type": "code",
   "execution_count": 80,
   "id": "8561730b",
   "metadata": {},
   "outputs": [
    {
     "ename": "IndentationError",
     "evalue": "unindent does not match any outer indentation level (<tokenize>, line 85)",
     "output_type": "error",
     "traceback": [
      "\u001b[1;36m  File \u001b[1;32m<tokenize>:85\u001b[1;36m\u001b[0m\n\u001b[1;33m    print(\"predicted probilities\",self.predicted_probalities)\u001b[0m\n\u001b[1;37m    ^\u001b[0m\n\u001b[1;31mIndentationError\u001b[0m\u001b[1;31m:\u001b[0m unindent does not match any outer indentation level\n"
     ]
    }
   ],
   "source": [
    "class naivebayes:\n",
    "    def __init__(self,x_train,y_train,x_test,y_test):\n",
    "        self.x_train=x_train\n",
    "        self.y_train=y_train\n",
    "        self.x_test=x_test\n",
    "        self.y_test=y_test\n",
    "        \n",
    "        ##### Unique values in y_train or y_test\n",
    "        self.y=y_train.unique()\n",
    "        \n",
    "        ##### prior_probality\n",
    "        self.pri_probality=[]\n",
    "        ##### likelihood probality\n",
    "        self.probabilities={}\n",
    "        ##### predicted probalities\n",
    "        self.predicted_probalities=[]\n",
    "        \n",
    "        \n",
    "    def prior_probality(self):\n",
    "        length_y=len(self.y)\n",
    "        length_x_train=len(self.x_train)\n",
    "        for i in range(length_y):\n",
    "            count=0\n",
    "            for j  in range(length_x_train):\n",
    "                if self.y[i]==self.y_train.iloc[j]:\n",
    "                    count=count+1\n",
    "            self.pri_probality.append([self.y[i],(count/length_x_train)])\n",
    "#         print(self.pri_probality)\n",
    "        \n",
    "    def probality_store(self):\n",
    "        # Initialize an empty dictionary to store the probabilities\n",
    "       # self.probabilities = {}\n",
    "\n",
    "        # Iterate over each column in x_train\n",
    "        for column in x_train.columns:\n",
    "            # Initialize an empty dictionary for the current column\n",
    "            column_dict = {}\n",
    "\n",
    "            # Get the unique values in the current column\n",
    "            unique_values = x_train[column].unique()\n",
    "\n",
    "            # Iterate over each unique value in the current column\n",
    "            for value in unique_values:\n",
    "                # Initialize an empty dictionary for probabilities of each target value\n",
    "                target_probabilities = {}\n",
    "\n",
    "                # Iterate over each unique target value in y_train\n",
    "                for target_value in y_train.unique():\n",
    "                    # Count occurrences of (value, target_value) pairs in the dataset\n",
    "                    count = ((x_train[column] == value) & (y_train == target_value)).sum()\n",
    "\n",
    "                    # Calculate the probability of (value, target_value) pair\n",
    "                    probability = count / len(y_train[y_train == target_value])\n",
    "\n",
    "                    # Store the probability in the dictionary\n",
    "                    target_probabilities[target_value] = probability\n",
    "\n",
    "                # Store the dictionary of probabilities for the current value in the column\n",
    "                column_dict[value] = target_probabilities\n",
    "\n",
    "            # Store the dictionary of probabilities for the current column in the main dictionary\n",
    "            self.probabilities[column] = column_dict\n",
    "#         print(self.probabilities)\n",
    "#         # Now you can access the probabilities for each category in each column\n",
    "#         print(probabilities['sector'][' Federal-gov'])\n",
    "\n",
    "    def predict_data(self):\n",
    "        for i in range(len(self.x_test)):         ###############  test data values\n",
    "            pre_result=[]\n",
    "            for j in range(len(self.y)):          ########  target specific value \n",
    "                prob=float(self.pri_probality[j][1])\n",
    "#                 print(\"prob\",prob)\n",
    "                unique_values = x_train.columns\n",
    "                        \n",
    "                for k in range(len(unique_values)):             ##### column \n",
    "                    if(float(self.probabilities[unique_values[k]][self.x_test.iloc[i,k]][self.y[j]]) == 0.0):  ## if any probality zero laplace smoothing apply         \n",
    "                        print(\"zero probality:\",float(self.probabilities[unique_values[k]][self.x_test.iloc[i,k]][self.y[j]]))\n",
    "                        prob=prob*((float(self.probabilities[unique_values[k]][self.x_test.iloc[i,k]][self.y[j]])+1)/1+len(self.probabilities[unique_values[k]]))\n",
    "                    else:   \n",
    "                        prob=prob*float(self.probabilities[unique_values[k]][self.x_test.iloc[i,k]][self.y[j]])\n",
    "#                     print(\"probality\",prob)\n",
    "                pre_result.append(prob)\n",
    "#             print(\"pre_result\",pre_result)\n",
    "            self.predicted_probalities.append(pre_result)\n",
    "         print(\"predicted probilities\",self.predicted_probalities)\n",
    "\n",
    "    def accuracy(self):\n",
    "        #### self.predicted_probalities   [-----,------] two probality\n",
    "        #### self.y_test\n",
    "        ##### self.y         list unique y_test label\n",
    "        \n",
    "        count=0\n",
    "        for i in range(len(self.y_test)):\n",
    "            maxi=0.0\n",
    "            k=0\n",
    "            for j in range(len(self.y)):      #### highest probality find\n",
    "               \n",
    "#              print(\"print\",self.predicted_probalities[i][j])\n",
    "                if( float(self.predicted_probalities[i][j])> float(maxi)):\n",
    "                    maxi=float(self.predicted_probalities[i][j])\n",
    "                    k=j      #specific index highest value\n",
    "            for j in range(len(self.y)):      #### highest probality find\n",
    "                if ( (self.y[j]== self.y_test.iloc[i]) & (j==k)):     ### actual == predicted\n",
    "                    count=count+1\n",
    "        print(\"accuracy\",count/len(self.y_test))\n",
    "            \n",
    "\n",
    "if __name__ == \"__main__\":\n",
    "    abc=naivebayes(x_train,y_train,x_test,y_test)\n",
    "    abc.prior_probality()\n",
    "    abc.probality_store()\n",
    "    abc.predict_data()\n",
    "    abc.accuracy()\n",
    "                               \n",
    "        \n",
    "    "
   ]
  },
  {
   "cell_type": "code",
   "execution_count": 73,
   "id": "bc2b1090",
   "metadata": {},
   "outputs": [
    {
     "name": "stdout",
     "output_type": "stream",
     "text": [
      "Accuracy: 0.55\n"
     ]
    }
   ],
   "source": [
    "class NaiveBayes:\n",
    "    def __init__(self, x_train, y_train, x_test, y_test):\n",
    "        self.x_train = x_train\n",
    "        self.y_train = y_train\n",
    "        self.x_test = x_test\n",
    "        self.y_test = y_test\n",
    "        self.unique_classes = y_train.unique()\n",
    "        self.prior_probabilities = {}\n",
    "        self.feature_probabilities = {}\n",
    "\n",
    "    def calculate_prior_probabilities(self):\n",
    "        for class_label in self.unique_classes:\n",
    "            count = (self.y_train == class_label).sum()\n",
    "            self.prior_probabilities[class_label] = (count + 1) / (len(self.y_train) + len(self.unique_classes))\n",
    "\n",
    "    def calculate_feature_probabilities(self):\n",
    "        for column in self.x_train.columns:\n",
    "            self.feature_probabilities[column] = {}\n",
    "            for class_label in self.unique_classes:\n",
    "                self.feature_probabilities[column][class_label] = {}\n",
    "                for value in self.x_train[column].unique():\n",
    "                    count = ((self.x_train[column] == value) & (self.y_train == class_label)).sum()\n",
    "                    self.feature_probabilities[column][class_label][value] = (count + 1) / (len(self.y_train[self.y_train == class_label]) + len(self.x_train[column].unique()))\n",
    "\n",
    "    def predict(self):\n",
    "        predictions = []\n",
    "        for i in range(len(self.x_test)):\n",
    "            probs = {}\n",
    "            for class_label in self.unique_classes:\n",
    "                prob = self.prior_probabilities[class_label]\n",
    "                for column in self.x_train.columns:\n",
    "                    value = self.x_test.iloc[i][column]\n",
    "                    prob *= self.feature_probabilities[column][class_label].get(value, 1 / (len(self.y_train[self.y_train == class_label]) + len(self.x_train[column].unique())))\n",
    "                probs[class_label] = prob\n",
    "            predicted_class = max(probs, key=probs.get)\n",
    "            predictions.append(predicted_class)\n",
    "        return predictions\n",
    "\n",
    "    def accuracy(self, predictions):\n",
    "        correct = (predictions == self.y_test).sum()\n",
    "        return correct / len(self.y_test)\n",
    "\n",
    "if __name__ == \"__main__\":\n",
    "    nb = NaiveBayes(x_train, y_train, x_test, y_test)\n",
    "    nb.calculate_prior_probabilities()\n",
    "    nb.calculate_feature_probabilities()\n",
    "    predictions = nb.predict()\n",
    "    accuracy = nb.accuracy(predictions)\n",
    "    print(\"Accuracy:\", accuracy)"
   ]
  },
  {
   "cell_type": "code",
   "execution_count": null,
   "id": "f0753ded",
   "metadata": {},
   "outputs": [],
   "source": []
  }
 ],
 "metadata": {
  "kernelspec": {
   "display_name": "Python 3 (ipykernel)",
   "language": "python",
   "name": "python3"
  },
  "language_info": {
   "codemirror_mode": {
    "name": "ipython",
    "version": 3
   },
   "file_extension": ".py",
   "mimetype": "text/x-python",
   "name": "python",
   "nbconvert_exporter": "python",
   "pygments_lexer": "ipython3",
   "version": "3.11.5"
  }
 },
 "nbformat": 4,
 "nbformat_minor": 5
}
